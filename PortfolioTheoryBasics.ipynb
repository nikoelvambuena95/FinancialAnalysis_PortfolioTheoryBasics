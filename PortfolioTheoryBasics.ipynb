{
 "cells": [
  {
   "cell_type": "markdown",
   "id": "fbb95f85",
   "metadata": {},
   "source": [
    "<h1> Portfolio Theory Basics: The Efficient Frontier, the CAPM, and the Sharpe Ratio"
   ]
  },
  {
   "cell_type": "markdown",
   "id": "ae8c8383",
   "metadata": {},
   "source": [
    "<p> In this project I outline the beginning foundation of modern portfolio theory and its underlying basics. I calculate and graph key portfolio performance indicators - the Efficient Frontier, the CAPM, and the Sharpe Ratio - using Python. Hopefully this highlights how powerful, efficient, and informative using programming is for financial analysis."
   ]
  },
  {
   "cell_type": "markdown",
   "id": "f77fb7ea",
   "metadata": {},
   "source": [
    "## Markowitz's Efficient Frontier"
   ]
  },
  {
   "cell_type": "markdown",
   "id": "78a3ebf4",
   "metadata": {},
   "source": [
    "<p>Harry Markowitz was an American economist that created the <i>Efficient Frontier</i> model in 1952. This model finds optimal asset portfolios that give the highest returns with minimal risk. To achieve this optimal portfolio, different weights for assets in the portfolio are used to produce desired returns. This concept is central to the risk-return trade-off at the cornerstone of modern portfolio management philosophies.\n",
    "\n",
    "<p>To find the Efficient Frontier, also known as Markowitz's Bullet, we plot the Expected Return on the y-axis and the Portfolio Risk (as Standard Deviation) on the x-axis.\n",
    "    \n",
    "<p>To calculate the Expected Return we use the formula below:\n",
    "    <p>$R = (w_{1}*r_{1}) + (w_{2}*r_{2}) + (w_{3}*r_{3}) + ...$\n",
    "    <ul> \n",
    "    <li> Expected Return ($R$)\n",
    "    <li> Portfolio Weight of Asset ($w_{x}$) \n",
    "    <li> Rate of Return of Asset ($r_{x}$)\n",
    "    </ul>\n",
    "<p>By using this formula with various assets' weights we can calculate different Expected Returns for a portfolio.\n",
    "<p>To calculate the Portfolio Risk we use the formula below:\n",
    "    <p>$\\sigma P = \\sqrt{(w_{1}^{2}*\\sigma_{1}^{2})+(w_{2}^{2}*\\sigma_{2}^{2})+((2*Corr)*\\sigma_{1}*\\sigma_{2}})$\n",
    "    <ul> \n",
    "    <li> Portfolio Risk ($\\sigma P$)\n",
    "    <li> Portfolio Weight of Asset ($w_{x}$) \n",
    "    <li> Standard Deviation of Asset ($\\sigma_{x}$)\n",
    "    <li> Correlation Coefficient ($Corr$)\n",
    "    </ul>\n",
    "<p> Lucky for us, all these calculations can be handled using Python. I demonstrate this in the following code."
   ]
  },
  {
   "cell_type": "code",
   "execution_count": 1,
   "id": "c7baf6d4",
   "metadata": {},
   "outputs": [],
   "source": [
    "# load dependencies\n",
    "import pandas_datareader.data as web\n",
    "import pandas as pd\n",
    "import datetime as dt\n",
    "import numpy as np\n",
    "import matplotlib.pyplot as plt"
   ]
  },
  {
   "cell_type": "code",
   "execution_count": 2,
   "id": "8d6e454f",
   "metadata": {},
   "outputs": [],
   "source": [
    "# set data source as Stooq\n",
    "source = 'stooq'"
   ]
  },
  {
   "cell_type": "code",
   "execution_count": 3,
   "id": "222bdf0b",
   "metadata": {},
   "outputs": [],
   "source": [
    "# select stock and timeframe\n",
    "assets = ['MSFT', 'XOM']\n",
    "stooq_df = pd.DataFrame()\n",
    "date_start = dt.datetime(1995, 1, 1)"
   ]
  },
  {
   "cell_type": "code",
   "execution_count": 4,
   "id": "fe6f48e5",
   "metadata": {},
   "outputs": [],
   "source": [
    "# get data using \"pandas-datareader\" package\n",
    "for a in assets:\n",
    "    data_pull = web.DataReader(a, data_source=source, start=date_start)['Close']\n",
    "    stooq_df[a] = data_pull\n"
   ]
  },
  {
   "cell_type": "code",
   "execution_count": 5,
   "id": "06dc4fd1",
   "metadata": {
    "scrolled": false
   },
   "outputs": [
    {
     "data": {
      "text/html": [
       "<div>\n",
       "<style scoped>\n",
       "    .dataframe tbody tr th:only-of-type {\n",
       "        vertical-align: middle;\n",
       "    }\n",
       "\n",
       "    .dataframe tbody tr th {\n",
       "        vertical-align: top;\n",
       "    }\n",
       "\n",
       "    .dataframe thead th {\n",
       "        text-align: right;\n",
       "    }\n",
       "</style>\n",
       "<table border=\"1\" class=\"dataframe\">\n",
       "  <thead>\n",
       "    <tr style=\"text-align: right;\">\n",
       "      <th></th>\n",
       "      <th>MSFT</th>\n",
       "      <th>XOM</th>\n",
       "    </tr>\n",
       "    <tr>\n",
       "      <th>Date</th>\n",
       "      <th></th>\n",
       "      <th></th>\n",
       "    </tr>\n",
       "  </thead>\n",
       "  <tbody>\n",
       "    <tr>\n",
       "      <th>2023-04-26</th>\n",
       "      <td>295.37</td>\n",
       "      <td>115.45</td>\n",
       "    </tr>\n",
       "    <tr>\n",
       "      <th>2023-04-25</th>\n",
       "      <td>275.42</td>\n",
       "      <td>116.52</td>\n",
       "    </tr>\n",
       "    <tr>\n",
       "      <th>2023-04-24</th>\n",
       "      <td>281.77</td>\n",
       "      <td>118.20</td>\n",
       "    </tr>\n",
       "    <tr>\n",
       "      <th>2023-04-21</th>\n",
       "      <td>285.76</td>\n",
       "      <td>116.01</td>\n",
       "    </tr>\n",
       "    <tr>\n",
       "      <th>2023-04-20</th>\n",
       "      <td>286.11</td>\n",
       "      <td>115.64</td>\n",
       "    </tr>\n",
       "  </tbody>\n",
       "</table>\n",
       "</div>"
      ],
      "text/plain": [
       "              MSFT     XOM\n",
       "Date                      \n",
       "2023-04-26  295.37  115.45\n",
       "2023-04-25  275.42  116.52\n",
       "2023-04-24  281.77  118.20\n",
       "2023-04-21  285.76  116.01\n",
       "2023-04-20  286.11  115.64"
      ]
     },
     "execution_count": 5,
     "metadata": {},
     "output_type": "execute_result"
    }
   ],
   "source": [
    "# show data\n",
    "stooq_df.head()"
   ]
  },
  {
   "cell_type": "code",
   "execution_count": 6,
   "id": "eeb71bb5",
   "metadata": {},
   "outputs": [
    {
     "data": {
      "image/png": "[encoded data removed]",
      "text/plain": [
       "<Figure size 720x360 with 1 Axes>"
      ]
     },
     "metadata": {
      "needs_background": "light"
     },
     "output_type": "display_data"
    }
   ],
   "source": [
    "# graph the performance of the assets within the given timeframe AKA the rate of return for individual assets\n",
    "(stooq_df / stooq_df.iloc[0] * 100).plot(figsize=(10, 5))\n",
    "\n",
    "plt.title('Asset Returns | Date Start: Jan. 1, 1995')\n",
    "plt.xlabel('Years')\n",
    "plt.ylabel('Rate of Return')\n",
    "plt.show()"
   ]
  },
  {
   "cell_type": "code",
   "execution_count": 7,
   "id": "f4c5ddf6",
   "metadata": {
    "scrolled": true
   },
   "outputs": [
    {
     "data": {
      "text/html": [
       "<div>\n",
       "<style scoped>\n",
       "    .dataframe tbody tr th:only-of-type {\n",
       "        vertical-align: middle;\n",
       "    }\n",
       "\n",
       "    .dataframe tbody tr th {\n",
       "        vertical-align: top;\n",
       "    }\n",
       "\n",
       "    .dataframe thead th {\n",
       "        text-align: right;\n",
       "    }\n",
       "</style>\n",
       "<table border=\"1\" class=\"dataframe\">\n",
       "  <thead>\n",
       "    <tr style=\"text-align: right;\">\n",
       "      <th></th>\n",
       "      <th>MSFT</th>\n",
       "      <th>XOM</th>\n",
       "    </tr>\n",
       "    <tr>\n",
       "      <th>Date</th>\n",
       "      <th></th>\n",
       "      <th></th>\n",
       "    </tr>\n",
       "  </thead>\n",
       "  <tbody>\n",
       "    <tr>\n",
       "      <th>2023-04-26</th>\n",
       "      <td>NaN</td>\n",
       "      <td>NaN</td>\n",
       "    </tr>\n",
       "    <tr>\n",
       "      <th>2023-04-25</th>\n",
       "      <td>-0.069932</td>\n",
       "      <td>0.009225</td>\n",
       "    </tr>\n",
       "    <tr>\n",
       "      <th>2023-04-24</th>\n",
       "      <td>0.022794</td>\n",
       "      <td>0.014315</td>\n",
       "    </tr>\n",
       "    <tr>\n",
       "      <th>2023-04-21</th>\n",
       "      <td>0.014061</td>\n",
       "      <td>-0.018702</td>\n",
       "    </tr>\n",
       "    <tr>\n",
       "      <th>2023-04-20</th>\n",
       "      <td>0.001224</td>\n",
       "      <td>-0.003194</td>\n",
       "    </tr>\n",
       "  </tbody>\n",
       "</table>\n",
       "</div>"
      ],
      "text/plain": [
       "                MSFT       XOM\n",
       "Date                          \n",
       "2023-04-26       NaN       NaN\n",
       "2023-04-25 -0.069932  0.009225\n",
       "2023-04-24  0.022794  0.014315\n",
       "2023-04-21  0.014061 -0.018702\n",
       "2023-04-20  0.001224 -0.003194"
      ]
     },
     "execution_count": 7,
     "metadata": {},
     "output_type": "execute_result"
    }
   ],
   "source": [
    "# get the log rate of returns\n",
    "log_returns = np.log(stooq_df / stooq_df.shift(1))\n",
    "log_returns.head()"
   ]
  },
  {
   "cell_type": "code",
   "execution_count": 8,
   "id": "7994db45",
   "metadata": {},
   "outputs": [
    {
     "data": {
      "text/plain": [
       "MSFT   -0.165290\n",
       "XOM    -0.088651\n",
       "dtype: float64"
      ]
     },
     "execution_count": 8,
     "metadata": {},
     "output_type": "execute_result"
    }
   ],
   "source": [
    "# using the number 250 to represent active trading days\n",
    "pfolio_mean = log_returns.mean() * 250\n",
    "pfolio_mean"
   ]
  },
  {
   "cell_type": "code",
   "execution_count": 9,
   "id": "a868c12e",
   "metadata": {
    "scrolled": true
   },
   "outputs": [
    {
     "data": {
      "text/html": [
       "<div>\n",
       "<style scoped>\n",
       "    .dataframe tbody tr th:only-of-type {\n",
       "        vertical-align: middle;\n",
       "    }\n",
       "\n",
       "    .dataframe tbody tr th {\n",
       "        vertical-align: top;\n",
       "    }\n",
       "\n",
       "    .dataframe thead th {\n",
       "        text-align: right;\n",
       "    }\n",
       "</style>\n",
       "<table border=\"1\" class=\"dataframe\">\n",
       "  <thead>\n",
       "    <tr style=\"text-align: right;\">\n",
       "      <th></th>\n",
       "      <th>MSFT</th>\n",
       "      <th>XOM</th>\n",
       "    </tr>\n",
       "  </thead>\n",
       "  <tbody>\n",
       "    <tr>\n",
       "      <th>MSFT</th>\n",
       "      <td>0.098587</td>\n",
       "      <td>0.028271</td>\n",
       "    </tr>\n",
       "    <tr>\n",
       "      <th>XOM</th>\n",
       "      <td>0.028271</td>\n",
       "      <td>0.067649</td>\n",
       "    </tr>\n",
       "  </tbody>\n",
       "</table>\n",
       "</div>"
      ],
      "text/plain": [
       "          MSFT       XOM\n",
       "MSFT  0.098587  0.028271\n",
       "XOM   0.028271  0.067649"
      ]
     },
     "execution_count": 9,
     "metadata": {},
     "output_type": "execute_result"
    }
   ],
   "source": [
    "pfolio_cov = log_returns.cov() * 250\n",
    "pfolio_cov"
   ]
  },
  {
   "cell_type": "code",
   "execution_count": 10,
   "id": "d97437c4",
   "metadata": {
    "scrolled": true
   },
   "outputs": [
    {
     "data": {
      "text/html": [
       "<div>\n",
       "<style scoped>\n",
       "    .dataframe tbody tr th:only-of-type {\n",
       "        vertical-align: middle;\n",
       "    }\n",
       "\n",
       "    .dataframe tbody tr th {\n",
       "        vertical-align: top;\n",
       "    }\n",
       "\n",
       "    .dataframe thead th {\n",
       "        text-align: right;\n",
       "    }\n",
       "</style>\n",
       "<table border=\"1\" class=\"dataframe\">\n",
       "  <thead>\n",
       "    <tr style=\"text-align: right;\">\n",
       "      <th></th>\n",
       "      <th>MSFT</th>\n",
       "      <th>XOM</th>\n",
       "    </tr>\n",
       "  </thead>\n",
       "  <tbody>\n",
       "    <tr>\n",
       "      <th>MSFT</th>\n",
       "      <td>1.000000</td>\n",
       "      <td>0.346189</td>\n",
       "    </tr>\n",
       "    <tr>\n",
       "      <th>XOM</th>\n",
       "      <td>0.346189</td>\n",
       "      <td>1.000000</td>\n",
       "    </tr>\n",
       "  </tbody>\n",
       "</table>\n",
       "</div>"
      ],
      "text/plain": [
       "          MSFT       XOM\n",
       "MSFT  1.000000  0.346189\n",
       "XOM   0.346189  1.000000"
      ]
     },
     "execution_count": 10,
     "metadata": {},
     "output_type": "execute_result"
    }
   ],
   "source": [
    "pfolio_corr = log_returns.corr()\n",
    "pfolio_corr"
   ]
  },
  {
   "cell_type": "code",
   "execution_count": 11,
   "id": "22b1d4ba",
   "metadata": {},
   "outputs": [
    {
     "name": "stdout",
     "output_type": "stream",
     "text": [
      "Total No. of Assets: 2\n"
     ]
    }
   ],
   "source": [
    "count_assets = len(assets)\n",
    "print(f'Total No. of Assets: {count_assets}')"
   ]
  },
  {
   "cell_type": "code",
   "execution_count": 12,
   "id": "c88bee5c",
   "metadata": {},
   "outputs": [
    {
     "data": {
      "text/plain": [
       "array([0.88445207, 0.0508433 ])"
      ]
     },
     "execution_count": 12,
     "metadata": {},
     "output_type": "execute_result"
    }
   ],
   "source": [
    "# create random weights for each asset\n",
    "weights = np.random.rand(count_assets)\n",
    "weights"
   ]
  },
  {
   "cell_type": "code",
   "execution_count": 13,
   "id": "b75ff242",
   "metadata": {},
   "outputs": [],
   "source": [
    "# function for finding sum array values\n",
    "def sum_arr(num_arr):\n",
    "    sum = 0\n",
    "\n",
    "    for i in num_arr:\n",
    "        sum = sum + i\n",
    "\n",
    "    return(sum)"
   ]
  },
  {
   "cell_type": "code",
   "execution_count": 14,
   "id": "d5b8a1a7",
   "metadata": {},
   "outputs": [
    {
     "data": {
      "text/plain": [
       "0.9352953659335315"
      ]
     },
     "execution_count": 14,
     "metadata": {},
     "output_type": "execute_result"
    }
   ],
   "source": [
    "# get array total\n",
    "array_total = sum_arr(weights)\n",
    "array_total"
   ]
  },
  {
   "cell_type": "code",
   "execution_count": 15,
   "id": "57222a21",
   "metadata": {},
   "outputs": [
    {
     "name": "stdout",
     "output_type": "stream",
     "text": [
      "[0.48666945 0.51333055]\n",
      "------\n"
     ]
    },
    {
     "data": {
      "text/plain": [
       "1.0"
      ]
     },
     "execution_count": 15,
     "metadata": {},
     "output_type": "execute_result"
    }
   ],
   "source": [
    "# create random weights for assets whose total equals 1\n",
    "weights = np.random.random(count_assets)\n",
    "weights /= np.sum(weights)\n",
    "print(weights)\n",
    "print('------')\n",
    "\n",
    "array_total = sum_arr(weights)\n",
    "array_total"
   ]
  },
  {
   "cell_type": "markdown",
   "id": "048058e4",
   "metadata": {},
   "source": [
    "#### Expected Portfolio Return:"
   ]
  },
  {
   "cell_type": "code",
   "execution_count": 16,
   "id": "73f3bff6",
   "metadata": {},
   "outputs": [
    {
     "data": {
      "text/plain": [
       "-0.12594869654272858"
      ]
     },
     "execution_count": 16,
     "metadata": {},
     "output_type": "execute_result"
    }
   ],
   "source": [
    "np.sum(weights * log_returns.mean()) * 250"
   ]
  },
  {
   "cell_type": "markdown",
   "id": "e9f4351e",
   "metadata": {},
   "source": [
    "#### Expected Portfolio Variance:"
   ]
  },
  {
   "cell_type": "code",
   "execution_count": 17,
   "id": "95fa3ce5",
   "metadata": {
    "scrolled": false
   },
   "outputs": [
    {
     "data": {
      "text/plain": [
       "0.05530144725565557"
      ]
     },
     "execution_count": 17,
     "metadata": {},
     "output_type": "execute_result"
    }
   ],
   "source": [
    "np.dot(weights, np.dot(log_returns.cov() * 250, weights))"
   ]
  },
  {
   "cell_type": "markdown",
   "id": "964287e9",
   "metadata": {},
   "source": [
    "#### Expected Portfolio Volatility:"
   ]
  },
  {
   "cell_type": "code",
   "execution_count": 18,
   "id": "2e48730c",
   "metadata": {},
   "outputs": [
    {
     "data": {
      "text/plain": [
       "0.23516259748449703"
      ]
     },
     "execution_count": 18,
     "metadata": {},
     "output_type": "execute_result"
    }
   ],
   "source": [
    "np.sqrt(np.dot(weights, np.dot(log_returns.cov() * 250, weights)))"
   ]
  },
  {
   "cell_type": "code",
   "execution_count": 19,
   "id": "3d8a0598",
   "metadata": {},
   "outputs": [],
   "source": [
    "# user inputs how many iterations of weights for given assets\n",
    "pfolio_returns = []\n",
    "pfolio_volatilities = []\n",
    "\n",
    "for x in range (int(2000)):\n",
    "    weights = np.random.random(count_assets)\n",
    "    weights /= np.sum(weights)\n",
    "    pfolio_returns.append( np.sum( weights * log_returns.mean()) * 250)\n",
    "    pfolio_volatilities.append( np.sqrt( np.dot( weights, np.dot( log_returns.cov() * 250, weights ) ) ) )\n",
    "\n",
    "# store results as arrays\n",
    "pfolio_returns = np.array(pfolio_returns)\n",
    "pfolio_volatilities = np.array(pfolio_volatilities)"
   ]
  },
  {
   "cell_type": "code",
   "execution_count": 20,
   "id": "51a3be03",
   "metadata": {
    "scrolled": true
   },
   "outputs": [],
   "source": [
    "# create a dataframe to hold iterated portfolio values\n",
    "portfolios = pd.DataFrame( {'Return': pfolio_returns, 'Volatility': pfolio_volatilities} )"
   ]
  },
  {
   "cell_type": "code",
   "execution_count": 21,
   "id": "b18ffab9",
   "metadata": {
    "scrolled": true
   },
   "outputs": [
    {
     "data": {
      "text/html": [
       "<div>\n",
       "<style scoped>\n",
       "    .dataframe tbody tr th:only-of-type {\n",
       "        vertical-align: middle;\n",
       "    }\n",
       "\n",
       "    .dataframe tbody tr th {\n",
       "        vertical-align: top;\n",
       "    }\n",
       "\n",
       "    .dataframe thead th {\n",
       "        text-align: right;\n",
       "    }\n",
       "</style>\n",
       "<table border=\"1\" class=\"dataframe\">\n",
       "  <thead>\n",
       "    <tr style=\"text-align: right;\">\n",
       "      <th></th>\n",
       "      <th>Return</th>\n",
       "      <th>Volatility</th>\n",
       "    </tr>\n",
       "  </thead>\n",
       "  <tbody>\n",
       "    <tr>\n",
       "      <th>0</th>\n",
       "      <td>-0.134437</td>\n",
       "      <td>0.244438</td>\n",
       "    </tr>\n",
       "    <tr>\n",
       "      <th>1</th>\n",
       "      <td>-0.135878</td>\n",
       "      <td>0.246520</td>\n",
       "    </tr>\n",
       "    <tr>\n",
       "      <th>2</th>\n",
       "      <td>-0.100727</td>\n",
       "      <td>0.240755</td>\n",
       "    </tr>\n",
       "    <tr>\n",
       "      <th>3</th>\n",
       "      <td>-0.127543</td>\n",
       "      <td>0.236499</td>\n",
       "    </tr>\n",
       "    <tr>\n",
       "      <th>4</th>\n",
       "      <td>-0.106737</td>\n",
       "      <td>0.234888</td>\n",
       "    </tr>\n",
       "  </tbody>\n",
       "</table>\n",
       "</div>"
      ],
      "text/plain": [
       "     Return  Volatility\n",
       "0 -0.134437    0.244438\n",
       "1 -0.135878    0.246520\n",
       "2 -0.100727    0.240755\n",
       "3 -0.127543    0.236499\n",
       "4 -0.106737    0.234888"
      ]
     },
     "execution_count": 21,
     "metadata": {},
     "output_type": "execute_result"
    }
   ],
   "source": [
    "# check top and bottom half of dataframe\n",
    "portfolios.head()"
   ]
  },
  {
   "cell_type": "code",
   "execution_count": 22,
   "id": "4407ea92",
   "metadata": {
    "scrolled": false
   },
   "outputs": [
    {
     "data": {
      "text/html": [
       "<div>\n",
       "<style scoped>\n",
       "    .dataframe tbody tr th:only-of-type {\n",
       "        vertical-align: middle;\n",
       "    }\n",
       "\n",
       "    .dataframe tbody tr th {\n",
       "        vertical-align: top;\n",
       "    }\n",
       "\n",
       "    .dataframe thead th {\n",
       "        text-align: right;\n",
       "    }\n",
       "</style>\n",
       "<table border=\"1\" class=\"dataframe\">\n",
       "  <thead>\n",
       "    <tr style=\"text-align: right;\">\n",
       "      <th></th>\n",
       "      <th>Return</th>\n",
       "      <th>Volatility</th>\n",
       "    </tr>\n",
       "  </thead>\n",
       "  <tbody>\n",
       "    <tr>\n",
       "      <th>1995</th>\n",
       "      <td>-0.142526</td>\n",
       "      <td>0.257862</td>\n",
       "    </tr>\n",
       "    <tr>\n",
       "      <th>1996</th>\n",
       "      <td>-0.148233</td>\n",
       "      <td>0.269669</td>\n",
       "    </tr>\n",
       "    <tr>\n",
       "      <th>1997</th>\n",
       "      <td>-0.142100</td>\n",
       "      <td>0.257054</td>\n",
       "    </tr>\n",
       "    <tr>\n",
       "      <th>1998</th>\n",
       "      <td>-0.118110</td>\n",
       "      <td>0.231482</td>\n",
       "    </tr>\n",
       "    <tr>\n",
       "      <th>1999</th>\n",
       "      <td>-0.117680</td>\n",
       "      <td>0.231422</td>\n",
       "    </tr>\n",
       "  </tbody>\n",
       "</table>\n",
       "</div>"
      ],
      "text/plain": [
       "        Return  Volatility\n",
       "1995 -0.142526    0.257862\n",
       "1996 -0.148233    0.269669\n",
       "1997 -0.142100    0.257054\n",
       "1998 -0.118110    0.231482\n",
       "1999 -0.117680    0.231422"
      ]
     },
     "execution_count": 22,
     "metadata": {},
     "output_type": "execute_result"
    }
   ],
   "source": [
    "portfolios.tail()"
   ]
  },
  {
   "cell_type": "markdown",
   "id": "e4137d17",
   "metadata": {},
   "source": [
    "#### Graphing Markowitz's Bullet"
   ]
  },
  {
   "cell_type": "code",
   "execution_count": 23,
   "id": "e91349b7",
   "metadata": {
    "scrolled": false
   },
   "outputs": [
    {
     "data": {
      "image/png": "[encoded data removed]",
      "text/plain": [
       "<Figure size 720x576 with 1 Axes>"
      ]
     },
     "metadata": {
      "needs_background": "light"
     },
     "output_type": "display_data"
    }
   ],
   "source": [
    "# plot the Efficient Frontier of the given assets and portfolio values\n",
    "portfolios.plot( x='Volatility', y='Return', kind='scatter', figsize=(10, 8))\n",
    "plt.title(f'Efficient Frontier | Iterations: 2000')\n",
    "plt.xlabel('Expected Volatility')\n",
    "plt.ylabel('Expected Return')\n",
    "\n",
    "plt.show()"
   ]
  },
  {
   "cell_type": "markdown",
   "id": "4ea83c65",
   "metadata": {},
   "source": [
    "## The Capital Asset Pricing Model"
   ]
  },
  {
   "cell_type": "markdown",
   "id": "99c2bdfe",
   "metadata": {},
   "source": [
    "<p> The <i>Capital Assest Pricing Model</i> (CAPM) formula:\n",
    "       <p> $r_{i} = r_{f} + \\beta_{im}(r_{m}-r_{f})$\n",
    "\n",
    "<p> The CAPM is a measure of the the risk and return of a security investment. There are three essential components to the CAPM:\n",
    "    <ul>\n",
    "    <li> Risk-Free Return ($r_{f}$)\n",
    "    <li> Market Risk Premium ($r_{m}-r_{f}$) \n",
    "    <li> Beta of the investment ($\\beta_{im}$)\n",
    "    </ul>\n",
    "    <p>The <i>Risk-Free Return</i> ($r_{f}$) is the value of an investment that carries zero risk. In reality there is no investment that carries a true risk rate equal to zero. A close investment that actually nears zero is the US 10-year government bond. This is because the US government is extremely unlikely not to pay back its bond holders - hence the near risk-free status and why it is often used in CAPM calculations for US markets.\n",
    "<p>The <i> Market Risk Premium</i> $(r_{m}-r_{f})$ is the return that is expected from the portfolio beyond the risk-free assets. This premium rate is a strong determinant in whether or not pursuing the given portfolio will produce significant returns. In other words, this return is crucial in measuring portfolio performance in the CAPM.\n",
    "<p> The <i> Beta</i> ($\\beta_{im}$) is a measure of the stock's volatility. More specifically, this component of the CAPM is a measure of the idiosyncratic or unsystematic risk. This is the risk that can be mitigated through investment diversification throughout a portfolio."
   ]
  },
  {
   "cell_type": "markdown",
   "id": "ca6ddb5f",
   "metadata": {},
   "source": [
    "#### Beta value"
   ]
  },
  {
   "cell_type": "markdown",
   "id": "0388fd1f",
   "metadata": {},
   "source": [
    "<p>We get the Beta value using the formula below:\n",
    "    <p> $\\large \\beta = {Cov(r_{x},r_{m}) \\over \\sigma^{2}_{m}}$\n",
    "        <br>\n",
    "    <p>The Beta value indicates the relationship the investment has in relation to the market. In other words, this metric will show if an investment will or will not behave similarly to the rest of the market.\n",
    "    <p> If $\\beta = 0$, then the stock behaves indepdently of the market.\n",
    "    <p> If $\\beta < 1$, then the stock is <i>defensive</i> because they will lose less in poor markets - i.e. they are safe in poor markets.\n",
    "    <p> If $\\beta = 1$, then the stock performs the same as the market.\n",
    "    <p> If $\\beta > 1$, then the stock is <i>aggresive</i> because they are riskier investments BUT they perform better than the market."
   ]
  },
  {
   "cell_type": "code",
   "execution_count": 24,
   "id": "a9e7af0b",
   "metadata": {
    "scrolled": true
   },
   "outputs": [
    {
     "data": {
      "text/html": [
       "<div>\n",
       "<style scoped>\n",
       "    .dataframe tbody tr th:only-of-type {\n",
       "        vertical-align: middle;\n",
       "    }\n",
       "\n",
       "    .dataframe tbody tr th {\n",
       "        vertical-align: top;\n",
       "    }\n",
       "\n",
       "    .dataframe thead th {\n",
       "        text-align: right;\n",
       "    }\n",
       "</style>\n",
       "<table border=\"1\" class=\"dataframe\">\n",
       "  <thead>\n",
       "    <tr style=\"text-align: right;\">\n",
       "      <th></th>\n",
       "      <th>MSFT</th>\n",
       "      <th>XOM</th>\n",
       "    </tr>\n",
       "  </thead>\n",
       "  <tbody>\n",
       "    <tr>\n",
       "      <th>MSFT</th>\n",
       "      <td>0.098587</td>\n",
       "      <td>0.028271</td>\n",
       "    </tr>\n",
       "    <tr>\n",
       "      <th>XOM</th>\n",
       "      <td>0.028271</td>\n",
       "      <td>0.067649</td>\n",
       "    </tr>\n",
       "  </tbody>\n",
       "</table>\n",
       "</div>"
      ],
      "text/plain": [
       "          MSFT       XOM\n",
       "MSFT  0.098587  0.028271\n",
       "XOM   0.028271  0.067649"
      ]
     },
     "execution_count": 24,
     "metadata": {},
     "output_type": "execute_result"
    }
   ],
   "source": [
    "# check portfolio covariance\n",
    "pfolio_cov"
   ]
  },
  {
   "cell_type": "code",
   "execution_count": 25,
   "id": "c4c665e8",
   "metadata": {},
   "outputs": [
    {
     "data": {
      "text/plain": [
       "0.09858704598422861"
      ]
     },
     "execution_count": 25,
     "metadata": {},
     "output_type": "execute_result"
    }
   ],
   "source": [
    "# get market variance for Microsoft stock (MSFT)\n",
    "market_var = log_returns['MSFT'].var() * 250\n",
    "market_var"
   ]
  },
  {
   "cell_type": "code",
   "execution_count": 26,
   "id": "afd34223",
   "metadata": {},
   "outputs": [
    {
     "data": {
      "text/plain": [
       "0.287"
      ]
     },
     "execution_count": 26,
     "metadata": {},
     "output_type": "execute_result"
    }
   ],
   "source": [
    "# calculate Beta\n",
    "MSFT_beta = pfolio_cov.iloc[0,1] / market_var\n",
    "round(MSFT_beta, 3)"
   ]
  },
  {
   "cell_type": "markdown",
   "id": "e2d89645",
   "metadata": {},
   "source": [
    "Microsoft's low Beta value of <b>0.287</b> can mean that it is a less volatile and safer stock."
   ]
  },
  {
   "cell_type": "markdown",
   "id": "b9bb3fc4",
   "metadata": {},
   "source": [
    "#### Calculate Expected Return for Microsoft (CAPM)"
   ]
  },
  {
   "cell_type": "code",
   "execution_count": 27,
   "id": "39e65d44",
   "metadata": {},
   "outputs": [],
   "source": [
    "# set the return value for the Risk-Free asset AKA the 10-year US gov't bond\n",
    "risk_free = 0.025"
   ]
  },
  {
   "cell_type": "code",
   "execution_count": 28,
   "id": "4dbc2058",
   "metadata": {},
   "outputs": [],
   "source": [
    "# set the Market Risk Premium as 0.05 or 5% (a market standard)\n",
    "market_risk_prem = 0.05"
   ]
  },
  {
   "cell_type": "code",
   "execution_count": 29,
   "id": "0daff140",
   "metadata": {},
   "outputs": [
    {
     "data": {
      "text/plain": [
       "0.039"
      ]
     },
     "execution_count": 29,
     "metadata": {},
     "output_type": "execute_result"
    }
   ],
   "source": [
    "MSFT_return = risk_free + (MSFT_beta * market_risk_prem)\n",
    "round(MSFT_return, 3)"
   ]
  },
  {
   "cell_type": "markdown",
   "id": "f87234dc",
   "metadata": {},
   "source": [
    "The Expected Return (CAPM) of Microsoft: <b>3.9%</b>"
   ]
  },
  {
   "cell_type": "markdown",
   "id": "3ddf650e",
   "metadata": {},
   "source": [
    "## The Sharpe Ratio"
   ]
  },
  {
   "cell_type": "markdown",
   "id": "6de69bff",
   "metadata": {},
   "source": [
    "<p> The <i>Sharpe ratio</i> formula:\n",
    "   <p> $\\large {r_{i}-r_{f} \\over\\sigma_{i}}$\n",
    "    <ul>\n",
    "    <li> Risk-Free Return ($r_{f}$)\n",
    "    <li> Return of the investment ($r_{i}$) \n",
    "    <li> Standard Deviation of the investment ($\\sigma_{i}$)\n",
    "    </ul>\n",
    "<p>The Sharpe ratio is a metric used to calculate an investment or portfolio's risk-adjusted return. It also highlights any additional return that is gained after taking on the risk. \n",
    "<p>Considered simply, a higher Sharpe ratio or index indicates a better return <i> relative to the risk of the investment or the relationship of the investments in the portfolio</i>."
   ]
  },
  {
   "cell_type": "code",
   "execution_count": 30,
   "id": "6e0efd97",
   "metadata": {},
   "outputs": [
    {
     "data": {
      "text/plain": [
       "0.04566452293913532"
      ]
     },
     "execution_count": 30,
     "metadata": {},
     "output_type": "execute_result"
    }
   ],
   "source": [
    "MSFT_sharpe = (MSFT_return - 0.025) / (log_returns['MSFT'].std() * 250 ** 0.5)\n",
    "MSFT_sharpe"
   ]
  },
  {
   "cell_type": "code",
   "execution_count": 31,
   "id": "aeeed1e9",
   "metadata": {
    "scrolled": false
   },
   "outputs": [
    {
     "name": "stdout",
     "output_type": "stream",
     "text": [
      "The Sharpe Ratio of Microsoft: 0.046\n"
     ]
    }
   ],
   "source": [
    "print(f'The Sharpe Ratio of Microsoft: {round(MSFT_sharpe, 3)}')"
   ]
  },
  {
   "cell_type": "markdown",
   "id": "d574ab47",
   "metadata": {},
   "source": [
    "The low Sharpe Ratio of <b>0.046</b> may indicate poor performance for Microsoft relative to the risk in our portfolio."
   ]
  }
 ],
 "metadata": {
  "kernelspec": {
   "display_name": "Python 3 (ipykernel)",
   "language": "python",
   "name": "python3"
  },
  "language_info": {
   "codemirror_mode": {
    "name": "ipython",
    "version": 3
   },
   "file_extension": ".py",
   "mimetype": "text/x-python",
   "name": "python",
   "nbconvert_exporter": "python",
   "pygments_lexer": "ipython3",
   "version": "3.9.12"
  }
 },
 "nbformat": 4,
 "nbformat_minor": 5
}
